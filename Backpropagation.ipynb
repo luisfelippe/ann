{
  "nbformat": 4,
  "nbformat_minor": 0,
  "metadata": {
    "colab": {
      "provenance": [],
      "authorship_tag": "ABX9TyOwuwTYP+A7b+M+ixrL1kcR",
      "include_colab_link": true
    },
    "kernelspec": {
      "name": "python3",
      "display_name": "Python 3"
    },
    "language_info": {
      "name": "python"
    }
  },
  "cells": [
    {
      "cell_type": "markdown",
      "metadata": {
        "id": "view-in-github",
        "colab_type": "text"
      },
      "source": [
        "<a href=\"https://colab.research.google.com/github/luisfelippe/ann/blob/main/Backpropagation.ipynb\" target=\"_parent\"><img src=\"https://colab.research.google.com/assets/colab-badge.svg\" alt=\"Open In Colab\"/></a>"
      ]
    },
    {
      "cell_type": "markdown",
      "source": [
        "## Custom MLP"
      ],
      "metadata": {
        "id": "TM3bPY-LKfS_"
      }
    },
    {
      "cell_type": "code",
      "execution_count": 12,
      "metadata": {
        "id": "JGkYTn_GJayQ"
      },
      "outputs": [],
      "source": [
        "from sklearn.datasets import fetch_olivetti_faces\n",
        "from sklearn.model_selection import train_test_split\n",
        "from sklearn.base import BaseEstimator, ClassifierMixin\n",
        "from sklearn.metrics import accuracy_score\n",
        "from sklearn.preprocessing import LabelBinarizer\n",
        "from sklearn.neural_network import MLPClassifier\n",
        "import numpy as np\n",
        "from scipy.special import expit\n",
        "from abc import ABC, abstractmethod"
      ]
    },
    {
      "cell_type": "code",
      "source": [
        "X, y = fetch_olivetti_faces(return_X_y=True)\n",
        "\n",
        "X_train, X_test, y_train, y_test = train_test_split(X, y, test_size=0.2)"
      ],
      "metadata": {
        "id": "k9c2umC4M39V",
        "colab": {
          "base_uri": "https://localhost:8080/"
        },
        "outputId": "a0ce0d3d-5ac3-4ece-bd1a-e75a031c189a"
      },
      "execution_count": 2,
      "outputs": [
        {
          "output_type": "stream",
          "name": "stdout",
          "text": [
            "downloading Olivetti faces from https://ndownloader.figshare.com/files/5976027 to /root/scikit_learn_data\n"
          ]
        }
      ]
    },
    {
      "cell_type": "code",
      "source": [
        "include_bias = lambda X: np.c_[np.ones(X.shape[0]), X]"
      ],
      "metadata": {
        "id": "T_o99_IfK2Ja"
      },
      "execution_count": 3,
      "outputs": []
    },
    {
      "cell_type": "code",
      "source": [
        "def sign(a):\n",
        "  return (a>=0)*2-1"
      ],
      "metadata": {
        "id": "E1HAMK5cKqXj"
      },
      "execution_count": 4,
      "outputs": []
    },
    {
      "cell_type": "code",
      "source": [
        "class ActivationFunction(ABC):\n",
        "  @abstractmethod\n",
        "  def foward(self, a):\n",
        "    pass\n",
        "\n",
        "  @abstractmethod\n",
        "  def backward(self, a):\n",
        "    pass\n",
        "\n",
        "class Tanh(ActivationFunction):\n",
        "  def foward(self, a):\n",
        "    return expit(a)*2-1\n",
        "\n",
        "  def backward(self, a):\n",
        "    return (1 - np.square(self.foward(a)))\n",
        "\n",
        "class Sigmoid(ActivationFunction):\n",
        "  def foward(self, a):\n",
        "    return expit(a)\n",
        "\n",
        "  def backward(self, a):\n",
        "    return self.foward(a)*(1-self.foward(a))"
      ],
      "metadata": {
        "id": "-IH3JYuAK53Q"
      },
      "execution_count": 5,
      "outputs": []
    },
    {
      "cell_type": "code",
      "source": [
        "class BackPropagation():\n",
        "  def __init__(\n",
        "      self,\n",
        "      max_iter=1000,\n",
        "      learning_rate=0.01,\n",
        "      n_hidden=[2],\n",
        "      regularization=0,\n",
        "      activation=Tanh()\n",
        "  ):\n",
        "    self.max_iter = max_iter\n",
        "    self.learning_rate = learning_rate\n",
        "    self.n_hidden = n_hidden\n",
        "    self.regularization = regularization\n",
        "    self.activation = activation\n",
        "\n",
        "  def foward(self, X):\n",
        "    self.A = []\n",
        "    self.Z = []\n",
        "\n",
        "    AUX = X.copy()\n",
        "\n",
        "    for W in self.Ws:\n",
        "      self.A.append(include_bias(AUX))\n",
        "      self.Z.append(self.A[-1] @ W)\n",
        "\n",
        "      AUX = self.activation.foward(self.Z[-1])\n",
        "\n",
        "    return AUX\n",
        "\n",
        "  def backward(self, Xb, y, ypred):\n",
        "    grads = []\n",
        "    output_delta = y - ypred\n",
        "    grads.insert(0, self.A[-1].T @ output_delta)\n",
        "\n",
        "    for i in range(len(self.Ws)-1, 0, -1):\n",
        "      input_delta = (output_delta @ self.Ws[i][1:, :].T) * self.activation.backward(self.Z[i-1])\n",
        "      grads.insert(0, self.A[i-1].T @ input_delta)\n",
        "      output_delta = input_delta.copy()\n",
        "\n",
        "    for i in range(len(self.Ws)-1, -1, -1):\n",
        "      self.Ws[i] *= 1 - self.regularization * self.learning_rate\n",
        "      self.Ws[i] += grads[i] * self.learning_rate\n",
        "\n",
        "  def getWs(self, X, y):\n",
        "    self.Ws = []\n",
        "    previous_output = X.shape[1]\n",
        "\n",
        "    for layer_size in self.n_hidden:\n",
        "      self.Ws.append(np.random.uniform(-1, 1, size=(previous_output+1, layer_size)))\n",
        "      previous_output = layer_size\n",
        "\n",
        "    if len(y.shape) == 1:\n",
        "      y = y.reshape(-1, 1)\n",
        "\n",
        "    self.Ws.append(np.random.uniform(-1, 1, size=(previous_output+1, y.shape[1])))\n",
        "\n",
        "    for _ in range(self.max_iter):\n",
        "      ypred = self.foward(X)\n",
        "      self.backward(X, y, ypred)\n",
        "\n",
        "    return self.Ws"
      ],
      "metadata": {
        "id": "1oqVSFsbK9wg"
      },
      "execution_count": 6,
      "outputs": []
    },
    {
      "cell_type": "code",
      "source": [
        "class MLP(BaseEstimator, ClassifierMixin):\n",
        "  def __init__(self, trainingAlgorithm=BackPropagation()):\n",
        "    self.trainingAlgorithm = trainingAlgorithm\n",
        "\n",
        "  def fit(self, X, y):\n",
        "    self.labelBinarizer = LabelBinarizer()\n",
        "    y = self.labelBinarizer.fit_transform(y)\n",
        "    self.w = self.trainingAlgorithm.getWs(X, y)\n",
        "\n",
        "    return self\n",
        "\n",
        "  def predict(self, X):\n",
        "    ypred = self.trainingAlgorithm.foward(X)\n",
        "\n",
        "    if ypred.shape[1] == 1:\n",
        "      ypred = sign(ypred)\n",
        "    else:\n",
        "      tmp = np.zeros(ypred.shape)\n",
        "      idx = np.argmax(ypred, axis=1)\n",
        "      tmp[np.arange(ypred.shape[0]), idx] = 1\n",
        "      ypred = tmp\n",
        "\n",
        "    ypred = self.labelBinarizer.inverse_transform(ypred)\n",
        "\n",
        "    return ypred"
      ],
      "metadata": {
        "id": "G8Tkx2fmLBQb"
      },
      "execution_count": 7,
      "outputs": []
    },
    {
      "cell_type": "code",
      "source": [
        "model = MLP(\n",
        "    trainingAlgorithm=BackPropagation(\n",
        "        max_iter=2000,\n",
        "        learning_rate=0.00002,\n",
        "        n_hidden=[],\n",
        "        regularization=1000\n",
        "    )\n",
        ")\n",
        "\n",
        "model.fit(X_train, y_train)\n",
        "ypred = model.predict(X_train)\n",
        "\n",
        "print(accuracy_score(y_train, ypred))\n",
        "\n",
        "ypred = model.predict(X_test)\n",
        "\n",
        "print(accuracy_score(y_test, ypred))"
      ],
      "metadata": {
        "id": "aXRb5sqRLD7l",
        "colab": {
          "base_uri": "https://localhost:8080/"
        },
        "outputId": "bbbf9d8c-c03a-4de1-f90c-1863e08c64b6"
      },
      "execution_count": 15,
      "outputs": [
        {
          "output_type": "stream",
          "name": "stdout",
          "text": [
            "0.259375\n",
            "0.075\n"
          ]
        }
      ]
    },
    {
      "cell_type": "code",
      "source": [
        "model = MLP(\n",
        "    trainingAlgorithm=BackPropagation(\n",
        "        max_iter=2000,\n",
        "        learning_rate=0.00002,\n",
        "        n_hidden=[],\n",
        "        regularization=1000,\n",
        "        activation=Sigmoid()\n",
        "    )\n",
        ")\n",
        "\n",
        "model.fit(X_train, y_train)\n",
        "ypred = model.predict(X_train)\n",
        "\n",
        "print(accuracy_score(y_train, ypred))\n",
        "\n",
        "ypred = model.predict(X_test)\n",
        "\n",
        "print(accuracy_score(y_test, ypred))"
      ],
      "metadata": {
        "id": "OzWVz4vpLGfn",
        "colab": {
          "base_uri": "https://localhost:8080/"
        },
        "outputId": "fe971b00-181f-4fab-e3fd-df5239b8f664"
      },
      "execution_count": 16,
      "outputs": [
        {
          "output_type": "stream",
          "name": "stdout",
          "text": [
            "0.259375\n",
            "0.05\n"
          ]
        }
      ]
    },
    {
      "cell_type": "markdown",
      "source": [
        "## SKLearn MLP"
      ],
      "metadata": {
        "id": "2EmgRJRNOcio"
      }
    },
    {
      "cell_type": "code",
      "source": [
        "model = MLPClassifier()\n",
        "model.fit(X_train, y_train)\n",
        "ypred = model.predict(X_train)\n",
        "\n",
        "print(accuracy_score(y_train, ypred))\n",
        "\n",
        "ypred = model.predict(X_test)\n",
        "\n",
        "print(accuracy_score(y_test, ypred))"
      ],
      "metadata": {
        "colab": {
          "base_uri": "https://localhost:8080/"
        },
        "id": "kL97cShTOqv2",
        "outputId": "7f3c3625-b734-4896-c871-e1809b0d4449"
      },
      "execution_count": 13,
      "outputs": [
        {
          "output_type": "stream",
          "name": "stdout",
          "text": [
            "0.834375\n",
            "0.6125\n"
          ]
        },
        {
          "output_type": "stream",
          "name": "stderr",
          "text": [
            "/usr/local/lib/python3.11/dist-packages/sklearn/neural_network/_multilayer_perceptron.py:691: ConvergenceWarning: Stochastic Optimizer: Maximum iterations (200) reached and the optimization hasn't converged yet.\n",
            "  warnings.warn(\n"
          ]
        }
      ]
    },
    {
      "cell_type": "code",
      "source": [
        "model = MLPClassifier(hidden_layer_sizes=())\n",
        "model.fit(X_train, y_train)\n",
        "ypred = model.predict(X_train)\n",
        "\n",
        "print(accuracy_score(y_train, ypred))\n",
        "\n",
        "ypred = model.predict(X_test)\n",
        "\n",
        "print(accuracy_score(y_test, ypred))"
      ],
      "metadata": {
        "colab": {
          "base_uri": "https://localhost:8080/"
        },
        "id": "ytBofT0cO8hH",
        "outputId": "00b46b7d-f891-433d-9086-e783361598c1"
      },
      "execution_count": 14,
      "outputs": [
        {
          "output_type": "stream",
          "name": "stdout",
          "text": [
            "1.0\n",
            "0.95\n"
          ]
        },
        {
          "output_type": "stream",
          "name": "stderr",
          "text": [
            "/usr/local/lib/python3.11/dist-packages/sklearn/neural_network/_multilayer_perceptron.py:691: ConvergenceWarning: Stochastic Optimizer: Maximum iterations (200) reached and the optimization hasn't converged yet.\n",
            "  warnings.warn(\n"
          ]
        }
      ]
    }
  ]
}